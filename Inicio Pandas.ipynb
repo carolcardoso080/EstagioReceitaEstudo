{
 "cells": [
  {
   "cell_type": "markdown",
   "id": "e2c977ae-6261-4f7e-8aa4-f820e70627e5",
   "metadata": {},
   "source": [
    "# Instalando pacotes Python\n",
    "* Pandas: Biblioteca para manipulação de dados em Python"
   ]
  },
  {
   "cell_type": "code",
   "execution_count": null,
   "id": "a984b4fc-4979-4f33-ab7a-859331b2d544",
   "metadata": {},
   "outputs": [],
   "source": [
    "pip install pandas"
   ]
  },
  {
   "cell_type": "markdown",
   "id": "664ad0ae-d0ed-4898-ae46-23d482a92d0e",
   "metadata": {},
   "source": [
    "# Importando pacotes Python"
   ]
  },
  {
   "cell_type": "code",
   "execution_count": 17,
   "id": "efb9bef8-60e8-4362-9e41-90ebe07f8173",
   "metadata": {},
   "outputs": [
    {
     "data": {
      "text/plain": [
       "'função head do pandas'"
      ]
     },
     "metadata": {},
     "output_type": "display_data"
    },
    {
     "data": {
      "text/html": [
       "<div>\n",
       "<style scoped>\n",
       "    .dataframe tbody tr th:only-of-type {\n",
       "        vertical-align: middle;\n",
       "    }\n",
       "\n",
       "    .dataframe tbody tr th {\n",
       "        vertical-align: top;\n",
       "    }\n",
       "\n",
       "    .dataframe thead th {\n",
       "        text-align: right;\n",
       "    }\n",
       "</style>\n",
       "<table border=\"1\" class=\"dataframe\">\n",
       "  <thead>\n",
       "    <tr style=\"text-align: right;\">\n",
       "      <th></th>\n",
       "      <th>nome</th>\n",
       "      <th>estado</th>\n",
       "    </tr>\n",
       "  </thead>\n",
       "  <tbody>\n",
       "    <tr>\n",
       "      <th>0</th>\n",
       "      <td>julio</td>\n",
       "      <td>bahia</td>\n",
       "    </tr>\n",
       "  </tbody>\n",
       "</table>\n",
       "</div>"
      ],
      "text/plain": [
       "    nome  estado\n",
       "0  julio   bahia"
      ]
     },
     "metadata": {},
     "output_type": "display_data"
    },
    {
     "data": {
      "text/html": [
       "<div>\n",
       "<style scoped>\n",
       "    .dataframe tbody tr th:only-of-type {\n",
       "        vertical-align: middle;\n",
       "    }\n",
       "\n",
       "    .dataframe tbody tr th {\n",
       "        vertical-align: top;\n",
       "    }\n",
       "\n",
       "    .dataframe thead th {\n",
       "        text-align: right;\n",
       "    }\n",
       "</style>\n",
       "<table border=\"1\" class=\"dataframe\">\n",
       "  <thead>\n",
       "    <tr style=\"text-align: right;\">\n",
       "      <th></th>\n",
       "      <th>nome</th>\n",
       "      <th>estado</th>\n",
       "    </tr>\n",
       "  </thead>\n",
       "  <tbody>\n",
       "    <tr>\n",
       "      <th>1</th>\n",
       "      <td>fernando</td>\n",
       "      <td>acre</td>\n",
       "    </tr>\n",
       "    <tr>\n",
       "      <th>2</th>\n",
       "      <td>luiza</td>\n",
       "      <td>minas gerais</td>\n",
       "    </tr>\n",
       "  </tbody>\n",
       "</table>\n",
       "</div>"
      ],
      "text/plain": [
       "       nome         estado\n",
       "1  fernando           acre\n",
       "2     luiza   minas gerais"
      ]
     },
     "metadata": {},
     "output_type": "display_data"
    },
    {
     "data": {
      "text/plain": [
       "'função info do pandas'"
      ]
     },
     "metadata": {},
     "output_type": "display_data"
    },
    {
     "name": "stdout",
     "output_type": "stream",
     "text": [
      "<class 'pandas.core.frame.DataFrame'>\n",
      "RangeIndex: 3 entries, 0 to 2\n",
      "Data columns (total 2 columns):\n",
      " #   Column   Non-Null Count  Dtype \n",
      "---  ------   --------------  ----- \n",
      " 0   nome     3 non-null      object\n",
      " 1    estado  3 non-null      object\n",
      "dtypes: object(2)\n",
      "memory usage: 176.0+ bytes\n"
     ]
    },
    {
     "data": {
      "text/plain": [
       "None"
      ]
     },
     "metadata": {},
     "output_type": "display_data"
    }
   ],
   "source": [
    "import pandas as pd\n",
    "\n",
    "# Substitua 'seu_arquivo.csv' pelo caminho do seu arquivo CSV\n",
    "caminho_do_arquivo = 'base_teste.csv'\n",
    "\n",
    "# Carregando o arquivo CSV em um DataFrame do Pandas\n",
    "dados = pd.read_csv(caminho_do_arquivo, sep = ';')\n",
    "\n",
    "display(\"função head do pandas\")\n",
    "\n",
    "# Exibindo as primeiras linhas do DataFrame\n",
    "display(dados.head(1))\n",
    "\n",
    "display(dados.tail(2))\n",
    "\n",
    "display(\"função info do pandas\")\n",
    "\n",
    "display (dados.info())\n"
   ]
  },
  {
   "cell_type": "code",
   "execution_count": 7,
   "id": "5a91a19c-01f6-4965-aea2-e36d4e4d3912",
   "metadata": {},
   "outputs": [
    {
     "data": {
      "text/html": [
       "<div>\n",
       "<style scoped>\n",
       "    .dataframe tbody tr th:only-of-type {\n",
       "        vertical-align: middle;\n",
       "    }\n",
       "\n",
       "    .dataframe tbody tr th {\n",
       "        vertical-align: top;\n",
       "    }\n",
       "\n",
       "    .dataframe thead th {\n",
       "        text-align: right;\n",
       "    }\n",
       "</style>\n",
       "<table border=\"1\" class=\"dataframe\">\n",
       "  <thead>\n",
       "    <tr style=\"text-align: right;\">\n",
       "      <th></th>\n",
       "      <th>nome</th>\n",
       "      <th>estado</th>\n",
       "    </tr>\n",
       "  </thead>\n",
       "  <tbody>\n",
       "    <tr>\n",
       "      <th>0</th>\n",
       "      <td>julio</td>\n",
       "      <td>bahia</td>\n",
       "    </tr>\n",
       "    <tr>\n",
       "      <th>1</th>\n",
       "      <td>fernando</td>\n",
       "      <td>acre</td>\n",
       "    </tr>\n",
       "    <tr>\n",
       "      <th>2</th>\n",
       "      <td>luiza</td>\n",
       "      <td>minas gerais</td>\n",
       "    </tr>\n",
       "  </tbody>\n",
       "</table>\n",
       "</div>"
      ],
      "text/plain": [
       "       nome         estado\n",
       "0     julio          bahia\n",
       "1  fernando           acre\n",
       "2     luiza   minas gerais"
      ]
     },
     "execution_count": 7,
     "metadata": {},
     "output_type": "execute_result"
    }
   ],
   "source": [
    "dados.head()"
   ]
  },
  {
   "cell_type": "code",
   "execution_count": 10,
   "id": "3f8f6588-6781-44ac-abaa-f71fd77150f6",
   "metadata": {},
   "outputs": [
    {
     "data": {
      "text/plain": [
       "1"
      ]
     },
     "execution_count": 10,
     "metadata": {},
     "output_type": "execute_result"
    }
   ],
   "source": [
    "variavel"
   ]
  },
  {
   "cell_type": "code",
   "execution_count": 12,
   "id": "81340226-0eb5-42fe-8595-5f13a44fa972",
   "metadata": {},
   "outputs": [
    {
     "data": {
      "text/plain": [
       "1"
      ]
     },
     "metadata": {},
     "output_type": "display_data"
    }
   ],
   "source": [
    "display(1)"
   ]
  },
  {
   "cell_type": "code",
   "execution_count": null,
   "id": "057bfa1e-71fd-4e8f-9ee4-6fa880fcda9c",
   "metadata": {},
   "outputs": [],
   "source": [
    "variavel = \"oi\"\n",
    "variavel = 2\n",
    "import \n",
    "for\n",
    "as\n",
    "# teste\n",
    "\n",
    "minhaVariavel = 1\n",
    "\n",
    "minha_variavel = 1\n",
    "    \n",
    "\n",
    "def minha_funcao\n"
   ]
  },
  {
   "cell_type": "code",
   "execution_count": 9,
   "id": "e2d7c9e1-3510-4c92-857c-ef37d281c593",
   "metadata": {},
   "outputs": [],
   "source": [
    "variavel = 1"
   ]
  },
  {
   "cell_type": "code",
   "execution_count": null,
   "id": "23de6795-2183-4f08-b00d-88524af5f502",
   "metadata": {},
   "outputs": [],
   "source": [
    "print (variavel)"
   ]
  },
  {
   "cell_type": "code",
   "execution_count": null,
   "id": "de2c6056-e5d8-42a8-b066-2723f8ef5e86",
   "metadata": {},
   "outputs": [],
   "source": [
    "a = 0\n",
    "\n",
    "if a = 0:\n",
    "    print (\"é zero\")\n",
    "elif a = 1:\n",
    "    print (\"é um\")\n",
    "else:\n",
    "    print (\"é outra coisa\")\n",
    "\n",
    "\n",
    "if a = 0:\n",
    "    print (\"é zero\")\n",
    "else:\n",
    "    if a = 1:\n",
    "        print (\"é um\")\n",
    "    else:\n",
    "        print (\"é outra coisa\")\n",
    "    "
   ]
  },
  {
   "cell_type": "code",
   "execution_count": null,
   "id": "ac3de84a-a947-423e-ae35-583bf2543878",
   "metadata": {},
   "outputs": [],
   "source": []
  }
 ],
 "metadata": {
  "kernelspec": {
   "display_name": "Python 3 (ipykernel)",
   "language": "python",
   "name": "python3"
  },
  "language_info": {
   "codemirror_mode": {
    "name": "ipython",
    "version": 3
   },
   "file_extension": ".py",
   "mimetype": "text/x-python",
   "name": "python",
   "nbconvert_exporter": "python",
   "pygments_lexer": "ipython3",
   "version": "3.10.12"
  }
 },
 "nbformat": 4,
 "nbformat_minor": 5
}
