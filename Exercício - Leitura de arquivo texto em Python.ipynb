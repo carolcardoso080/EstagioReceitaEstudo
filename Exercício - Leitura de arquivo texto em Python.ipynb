{
 "cells": [
  {
   "cell_type": "code",
   "execution_count": 2,
   "id": "88efa9ae-cc06-4f67-9bec-cc6585294af2",
   "metadata": {},
   "outputs": [],
   "source": [
    "caminho_do_arquivo = '/home/papa-leguas/Documents/Dados SIAPE/202311_Afastamentos.csv'\n",
    "\n",
    "#Abrir arquivo\n",
    "\n",
    "#ler as linhas do arquivo\n",
    "\n",
    "#exibir apenas as primeirs 10 linhas\n",
    "\n",
    "#criar um contador\n",
    "\n",
    "#verificar se o contador chegou ao final\n",
    "#se não chegou continua\n",
    "    \n",
    "    #le linha\n",
    "    #print linha\n",
    "\n",
    "#fecha arquivo"
   ]
  }
 ],
 "metadata": {
  "kernelspec": {
   "display_name": "Python 3 (ipykernel)",
   "language": "python",
   "name": "python3"
  },
  "language_info": {
   "codemirror_mode": {
    "name": "ipython",
    "version": 3
   },
   "file_extension": ".py",
   "mimetype": "text/x-python",
   "name": "python",
   "nbconvert_exporter": "python",
   "pygments_lexer": "ipython3",
   "version": "3.10.12"
  }
 },
 "nbformat": 4,
 "nbformat_minor": 5
}
