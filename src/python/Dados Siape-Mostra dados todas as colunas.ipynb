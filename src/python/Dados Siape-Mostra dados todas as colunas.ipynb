{
 "cells": [
  {
   "cell_type": "code",
   "execution_count": null,
   "id": "e5b8a159-9c89-4f8f-a7b5-b0fb0edbe466",
   "metadata": {},
   "outputs": [],
   "source": [
    "pip install plotly"
   ]
  },
  {
   "cell_type": "code",
   "execution_count": null,
   "id": "74934ffe-73d3-4fd3-888b-4d307d8b7937",
   "metadata": {},
   "outputs": [],
   "source": [
    "import pandas as pd\n",
    "import matplotlib.pyplot as plt\n",
    "import plotly.express as px\n",
    "from IPython.display import display, Markdown"
   ]
  },
  {
   "cell_type": "code",
   "execution_count": null,
   "id": "da41a0f8-3f17-4697-9767-ed59e5698589",
   "metadata": {},
   "outputs": [],
   "source": [
    "pd.set_option('display.max_rows', 20)\n",
    "pd.set_option('display.max_columns', None)"
   ]
  },
  {
   "cell_type": "code",
   "execution_count": null,
   "id": "08d772ee-6074-4275-9883-134c15acb634",
   "metadata": {},
   "outputs": [],
   "source": [
    "# Substitua 'seu_arquivo.csv' pelo caminho do seu arquivo CSV\n",
    "caminho_do_arquivo = '/home/carolcardoso/git/dados/Dadons SIAPE/202311_Cadastro.csv'\n",
    "\n",
    "# Carregando o arquivo CSV em um DataFrame do Pandas\n",
    "df_cadastro = pd.read_csv(caminho_do_arquivo, encoding='iso-8859-1', sep=';')"
   ]
  },
  {
   "cell_type": "code",
   "execution_count": null,
   "id": "e807b298-63ea-40dc-9411-337302749ea0",
   "metadata": {},
   "outputs": [],
   "source": [
    "type(df_cadastro.columns)"
   ]
  },
  {
   "cell_type": "code",
   "execution_count": null,
   "id": "532cff58-3297-4aa6-aa7c-c8faa301a30c",
   "metadata": {},
   "outputs": [],
   "source": [
    "lista = [1, 2, 3, 'abc', 'teste']\n",
    "\n",
    "for item_da_lista in lista:\n",
    "    \n",
    "    display (f'Item da lista: {item_da_lista}')"
   ]
  },
  {
   "cell_type": "code",
   "execution_count": null,
   "id": "585291c8-9cb5-456a-940f-46f24a334aa7",
   "metadata": {},
   "outputs": [],
   "source": [
    "lista = [1, 2, 3, 'abc', 'teste']\n",
    "\n",
    "for indice, item_da_lista in enumerate(lista):\n",
    "    display(f'Índice: {indice}, Item da lista: {item_da_lista}')"
   ]
  },
  {
   "cell_type": "code",
   "execution_count": null,
   "id": "86a7c293-78da-4839-9229-f58b6d2bd616",
   "metadata": {},
   "outputs": [],
   "source": [
    "display (lista[4])"
   ]
  },
  {
   "cell_type": "code",
   "execution_count": null,
   "id": "2c330dbe-a9b9-4dde-983a-0ea03c095801",
   "metadata": {},
   "outputs": [],
   "source": [
    "\n",
    "for coluna in df_cadastro.columns:\n",
    "\n",
    "    texto = f'Coluna: {coluna}'\n",
    "    \n",
    "    display(texto)\n",
    "    \n"
   ]
  },
  {
   "cell_type": "code",
   "execution_count": null,
   "id": "7274b9a3",
   "metadata": {},
   "outputs": [],
   "source": [
    "\n",
    "def gerar_grafico_quantidade_valores_unicos_coluna (df, coluna, numero_elementos):\n",
    "    \n",
    "    df_contagem = df[coluna].value_counts().reset_index()\n",
    "    df_contagem.columns = [coluna, 'Quantidade']\n",
    "    \n",
    "    # Criar um gráfico de barras\n",
    "    df_contagem.head(numero_elementos).plot(kind='bar', x=coluna, y='Quantidade')\n",
    "    \n",
    "    # Adicionar rótulos e título\n",
    "    plt.xlabel(coluna)\n",
    "    plt.ylabel('Quantidade registros únicos')\n",
    "    plt.title(f'Contagem de valores únicos em {coluna}')\n",
    "    \n",
    "    # Mostrar o gráfico\n",
    "    plt.show()\n",
    "    \n",
    "\n",
    "for coluna in df_cadastro.columns:\n",
    "\n",
    "    display(Markdown(f'# Informações: {coluna}'))\n",
    "    \n",
    "    elementos_unicos = df_cadastro[coluna].nunique()\n",
    "    \n",
    "    texto_elementos_unicos = f'Quantidade de elementos únicos: {elementos_unicos}'\n",
    "    \n",
    "    display(texto_elementos_unicos)\n",
    "\n",
    "    if elementos_unicos < 1000:\n",
    "        \n",
    "        gerar_grafico_quantidade_valores_unicos_coluna (df_cadastro, coluna, 10)\n",
    "\n",
    "    else:\n",
    "        \n",
    "        display (f\"ATENÇÃO: Número de elementos únicos não pode ser exibido em gráfico\")\n",
    "    \n",
    "    \n"
   ]
  },
  {
   "cell_type": "code",
   "execution_count": null,
   "id": "7e1a1f0d-8296-43a5-a15b-64b6bb0401b4",
   "metadata": {},
   "outputs": [],
   "source": [
    "display(type(contagem))"
   ]
  },
  {
   "cell_type": "code",
   "execution_count": null,
   "id": "ecb40338-15c9-4505-9459-aa7df473ff60",
   "metadata": {},
   "outputs": [],
   "source": [
    "df_contagem = contagem.reset_index()\n",
    "df_contagem.columns = ['Valor', 'Quantidade']\n",
    "\n",
    "display(df_contagem)"
   ]
  },
  {
   "cell_type": "code",
   "execution_count": null,
   "id": "8a52bbcd-cc76-42ca-92b1-9fb5d93a4d7d",
   "metadata": {},
   "outputs": [],
   "source": [
    "# Crie um gráfico de barras\n",
    "contagem.plot(kind='bar', color='skyblue')\n",
    "\n",
    "# Adicione rótulos e título\n",
    "plt.xlabel('Valores')\n",
    "plt.ylabel('Quantidade')\n",
    "plt.title('Contagem de Valores')\n",
    "\n",
    "# Exiba o gráfico\n",
    "plt.show()"
   ]
  },
  {
   "cell_type": "code",
   "execution_count": null,
   "id": "141b4656-e228-4300-86df-7e031388f3d7",
   "metadata": {},
   "outputs": [],
   "source": [
    "# Crie um gráfico de barras interativo usando plotly express\n",
    "fig = px.bar(df_contagem.head(100), x='Valor', y='Quantidade', color='Quantidade',\n",
    "             labels={'Quantidade': 'Quantidade de Ocorrências'},\n",
    "             title='Contagem de Valores - Gráfico Interativo')\n",
    "\n",
    "# Exiba o gráfico interativo\n",
    "fig.show()\n",
    "\n",
    "fig.write_html('grafico_interativo_dados_siape_cadastro_total_.ORG_LOTACAO.html')\n"
   ]
  },
  {
   "cell_type": "code",
   "execution_count": null,
   "id": "fc2d468f-dffd-4375-8ca2-d00fde641bf8",
   "metadata": {},
   "outputs": [],
   "source": [
    "# Crie um gráfico de barras interativo usando plotly express\n",
    "fig = px.bar(df_contagem.head(100), x='Valor', y='Quantidade', color='Valor',\n",
    "             labels={'Quantidade': 'Quantidade de Ocorrências'},\n",
    "             title='Contagem de Valores - Gráfico Interativo')\n",
    "\n",
    "# Exiba o gráfico interativo\n",
    "fig.show()\n",
    "\n",
    "fig.write_html('grafico_interativo_dados_siape_cadastro_total_.ORG_LOTACAO.html')"
   ]
  },
  {
   "cell_type": "code",
   "execution_count": null,
   "id": "351e669d-60b4-4584-8686-1e2be1166909",
   "metadata": {},
   "outputs": [],
   "source": [
    "display(px.colors.qualitative.Set3 )"
   ]
  },
  {
   "cell_type": "code",
   "execution_count": null,
   "id": "05f7851c-3851-428b-8c17-9bdf8e986767",
   "metadata": {},
   "outputs": [],
   "source": [
    "import pandas as pd\n",
    "import plotly.express as px\n",
    "\n",
    "# Suponha que 'variavel' seja sua variável com os valores distintos\n",
    "dados = {'variavel': ['A', 'B', 'A', 'C', 'B', 'A', 'A', 'C']}\n",
    "df = pd.DataFrame(dados)\n",
    "\n",
    "# Obtenha a contagem de valores\n",
    "contagem = df['variavel'].value_counts().reset_index()\n",
    "contagem.columns = ['Valor', 'Quantidade']\n",
    "\n",
    "# Crie um gráfico de barras interativo usando plotly express\n",
    "fig = px.bar(contagem, x='Valor', y='Quantidade', color='Quantidade',\n",
    "             labels={'Quantidade': 'Quantidade de Ocorrências'},\n",
    "             title='Contagem de Valores - Gráfico Interativo')\n",
    "\n",
    "# Salve o gráfico em um arquivo HTML\n",
    "fig.show()"
   ]
  },
  {
   "cell_type": "code",
   "execution_count": null,
   "id": "8318aac9-590f-4e53-9f68-76918a503a5b",
   "metadata": {},
   "outputs": [],
   "source": []
  }
 ],
 "metadata": {
  "kernelspec": {
   "display_name": "Python 3 (ipykernel)",
   "language": "python",
   "name": "python3"
  },
  "language_info": {
   "codemirror_mode": {
    "name": "ipython",
    "version": 3
   },
   "file_extension": ".py",
   "mimetype": "text/x-python",
   "name": "python",
   "nbconvert_exporter": "python",
   "pygments_lexer": "ipython3",
   "version": "3.10.12"
  }
 },
 "nbformat": 4,
 "nbformat_minor": 5
}
