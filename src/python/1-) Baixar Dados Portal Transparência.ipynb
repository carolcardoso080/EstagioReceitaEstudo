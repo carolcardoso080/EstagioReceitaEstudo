{
 "cells": [
  {
   "cell_type": "markdown",
   "id": "09b1fd72-d0aa-45d5-8437-3a8fa31d8dd8",
   "metadata": {},
   "source": [
    "# Notebook para baixar os dados Siape do Portal da Transparência"
   ]
  },
  {
   "cell_type": "markdown",
   "id": "e73b93f1-bfc1-4ea7-88b5-03a7a0ec7a5c",
   "metadata": {},
   "source": [
    "* https://dadosabertos-download.cgu.gov.br/PortalDaTransparencia/saida/servidores/202309_Servidores_SIAPE.zip\n"
   ]
  },
  {
   "cell_type": "code",
   "execution_count": null,
   "id": "16cb4158-aba4-476a-a01a-2b2fba63ade1",
   "metadata": {},
   "outputs": [],
   "source": [
    "import os\n",
    "import requests\n",
    "from tqdm import tqdm  # Esta biblioteca exibe uma barra de progresso durante o download"
   ]
  },
  {
   "cell_type": "code",
   "execution_count": null,
   "id": "fb1f7052-8388-4a47-967b-34dd47ccf5bf",
   "metadata": {},
   "outputs": [],
   "source": [
    "# import os\n",
    "\n",
    "#diretorio_atual = os.getcwd()\n",
    "#print(\"Diretório Atual:\", diretorio_atual)"
   ]
  },
  {
   "cell_type": "markdown",
   "id": "c3566d0e-e6cb-4f7e-a762-c0fa285a206a",
   "metadata": {},
   "source": [
    "* Caminho absoluto: /home/carolcardoso/git/ProgramaEstagio/dados/dados_siape_bruto\n",
    "\n",
    "* Caminho relativo: ../../dados/dados_siape_bruto"
   ]
  },
  {
   "cell_type": "code",
   "execution_count": null,
   "id": "c10ddde2-0b1f-4ad3-9331-34de10bad5a3",
   "metadata": {},
   "outputs": [],
   "source": [
    "def baixar_arquivo_siape(url, arquivo_destino):\n",
    "\n",
    "    # Verifica se o arquivo já existe no diretório\n",
    "    if os.path.exists(arquivo_destino):\n",
    "        print(f'O arquivo {arquivo_destino} já existe. Pulando o download.')\n",
    "    else:    \n",
    "        # Faça a solicitação GET para o URL sem usar stream (download completo de uma vez)\n",
    "        response = requests.get(url, stream=True)\n",
    "        \n",
    "        # Certifique-se de que a solicitação foi bem-sucedida (código de status 200)\n",
    "        if response.status_code == 200:\n",
    "            \n",
    "            # Abra o arquivo local para escrita binária\n",
    "            with (\n",
    "                open(arquivo_destino, 'wb') as file, \n",
    "            \n",
    "                tqdm(desc=\"Downloading\",\n",
    "                    total=int(response.headers['content-length']),\n",
    "                    unit='B',\n",
    "                    unit_scale=True,\n",
    "                    unit_divisor=1024) as bar\n",
    "                ):\n",
    "                \n",
    "                # Itera sobre os dados em partes e escreve no arquivo local\n",
    "                for data in response.iter_content(chunk_size=1024):\n",
    "                    file.write(data)\n",
    "                    bar.update(len(data))\n",
    "        else:\n",
    "            print(f\"Erro ao baixar o arquivo. Código de status: {response.status_code}\")"
   ]
  },
  {
   "cell_type": "code",
   "execution_count": null,
   "id": "cb4c3ec0-6054-414e-bbe2-162828ef0542",
   "metadata": {},
   "outputs": [],
   "source": [
    "def fazer_download_arquivos_siape():\n",
    "    \n",
    "    url_base = 'https://dadosabertos-download.cgu.gov.br/PortalDaTransparencia/saida/servidores'\n",
    "    pasta_destino = '../../dados/dados_siape_bruto'\n",
    "    \n",
    "    for ano in range(2013, 2024):    \n",
    "        \n",
    "        for mes in range(1, 13):\n",
    "    \n",
    "            nome_arquivo = f'{ano}{mes:0>{2}}_Servidores_SIAPE.zip'             \n",
    "            \n",
    "            url_download = f'{url_base}/{nome_arquivo}'\n",
    "            arquivo_destino = f'{pasta_destino}/{nome_arquivo}'\n",
    "            \n",
    "            display(f'Fazendo download do arquivo: {nome_arquivo} referente à {mes} de {ano}')\n",
    "            display(f'        url download: {url_download}')\n",
    "            display(f'')\n",
    "            \n",
    "            baixar_arquivo_siape(url_download, arquivo_destino)\n",
    "    \n",
    "fazer_download_arquivos_siape()"
   ]
  }
 ],
 "metadata": {
  "kernelspec": {
   "display_name": "Python 3 (ipykernel)",
   "language": "python",
   "name": "python3"
  },
  "language_info": {
   "codemirror_mode": {
    "name": "ipython",
    "version": 3
   },
   "file_extension": ".py",
   "mimetype": "text/x-python",
   "name": "python",
   "nbconvert_exporter": "python",
   "pygments_lexer": "ipython3",
   "version": "3.10.12"
  }
 },
 "nbformat": 4,
 "nbformat_minor": 5
}
