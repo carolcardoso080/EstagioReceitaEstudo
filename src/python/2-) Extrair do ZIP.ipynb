{
 "cells": [
  {
   "cell_type": "markdown",
   "id": "6f1c1722-9b85-4c91-a306-2ec81a359508",
   "metadata": {},
   "source": [
    "# Extraindo arquivos da Base Siape do ZIP"
   ]
  },
  {
   "cell_type": "code",
   "execution_count": null,
   "id": "63492d47-6e51-4731-8f1f-8a3952090e85",
   "metadata": {},
   "outputs": [],
   "source": [
    "''' frase = \"O rato roeu a roupa do rei de um grande templo ao sul do paquistão grande templo ao sul\"\n",
    "palavra_procurada = \"grande templo ao sul\"\n",
    "\n",
    "def remover_palavra_frase (frase, palavra):\n",
    "    \n",
    "    indice_palavra = frase.find(palavra)\n",
    "\n",
    "    tamanho_palavra = len(palavra)\n",
    "\n",
    "    indice_fim_palavra = indice_palavra+tamanho_palavra\n",
    "    \n",
    "    #Se for diferente de -1 é porque encontrou a palavra na frase\n",
    "    if indice_palavra != -1:\n",
    "\n",
    "        frase_sem_primeira_ocorrencia_palavra = frase[0:indice_palavra] + frase[indice_fim_palavra:]\n",
    "        \n",
    "    #Recursão - Roda para achar todas as ocorrências\n",
    "        return remover_palavra_frase (frase_sem_primeira_ocorrencia_palavra, palavra)\n",
    "\n",
    "    else:\n",
    "\n",
    "        return frase\n",
    "\n",
    "\n",
    "\n",
    "remover_palavra_frase (frase, palavra_procurada)\n",
    "\n",
    "'''\n",
    "    "
   ]
  },
  {
   "cell_type": "code",
   "execution_count": null,
   "id": "60bce417-deb4-4c5a-acf9-351ce59584a2",
   "metadata": {},
   "outputs": [],
   "source": [
    "import os\n",
    "import zipfile\n",
    "from tqdm import tqdm  # Esta biblioteca exibe uma barra de progresso durante o download"
   ]
  },
  {
   "cell_type": "code",
   "execution_count": null,
   "id": "f6bcf096-39cb-4199-a3e3-8fc6614e1eda",
   "metadata": {},
   "outputs": [],
   "source": [
    "def extrai_conteudo_zip(arquivo_zip, diretorio_base):\n",
    "\n",
    "    indice_ultimo_separador = arquivo_zip.rfind(\"/\")\n",
    "    nome_pasta = arquivo_zip [indice_ultimo_separador+1:-4] \n",
    "    # print(nome_pasta)\n",
    "\n",
    "    #diretorio_destino = diretorio_base + '/' + nome_pasta\n",
    "    #diretorio_destino = f'{diretorio_base}/{nome_pasta}'\n",
    "    diretorio_destino = os.path.join(diretorio_base, nome_pasta) # <--------------- PREFERIDO - NÃO DEFINIMOS SEPARADOR\n",
    "    \n",
    "    # Certifique-se de que a pasta de destino exista ou a crie\n",
    "    if not os.path.exists(diretorio_destino):\n",
    "        \n",
    "        os.makedirs(diretorio_destino)\n",
    "        \n",
    "        '''    \n",
    "        # Abre o arquivo ZIP\n",
    "        with zipfile.ZipFile(arquivo_zip, 'r') as zip_ref:\n",
    "            \n",
    "            # Extrai todos os arquivos para a pasta de destino\n",
    "            zip_ref.extractall(diretorio_destino) \n",
    "\n",
    "        '''\n",
    "\n",
    "        display (f'Descompactando arquivo: {arquivo_zip}')\n",
    "        \n",
    "        # Abre o arquivo ZIP\n",
    "        with zipfile.ZipFile(arquivo_zip, 'r') as zip_ref:\n",
    "            \n",
    "            # Obtém a lista de nomes de arquivos no ZIP\n",
    "            lista_arquivos = zip_ref.namelist()\n",
    "    \n",
    "            # Configura a barra de progresso\n",
    "            progresso = tqdm(total=len(lista_arquivos), desc='Extraindo arquivos', unit='arquivos')\n",
    "    \n",
    "            # Itera sobre os arquivos e extrai cada um\n",
    "            for arquivo in lista_arquivos:\n",
    "                zip_ref.extract(arquivo, diretorio_destino)\n",
    "                progresso.update(1)  # Atualiza a barra de progresso\n",
    "            progresso.close()\n",
    "\n",
    "        display(f'Arquivos extraídos para: {diretorio_destino}')\n",
    "            "
   ]
  },
  {
   "cell_type": "code",
   "execution_count": null,
   "id": "596e1a9c-9dde-4045-845b-3b6a41171429",
   "metadata": {},
   "outputs": [],
   "source": [
    "def percorre_extrai_zip(diretorio, diretorio_destino):\n",
    "\n",
    "    # Lista todos os arquivos no diretório\n",
    "    arquivos = os.listdir(diretorio)    \n",
    "    \n",
    "    # Filtra apenas os arquivos, excluindo subdiretórios e trazendo apenas ZIP\n",
    "    arquivos = [arquivo for arquivo in arquivos if os.path.isfile(os.path.join(diretorio, arquivo)) & arquivo.lower().endswith('.zip')]\n",
    "    \n",
    "    # Ordena os arquivos alfabeticamente\n",
    "    arquivos_ordenados = sorted(arquivos)\n",
    "    \n",
    "    # Itera a lista de arquivos\n",
    "    for arquivo in arquivos_ordenados:\n",
    "        \n",
    "        caminho_completo = os.path.join(diretorio, arquivo)\n",
    "        \n",
    "        extrai_conteudo_zip(caminho_completo, diretorio_destino)\n",
    "\n"
   ]
  },
  {
   "cell_type": "code",
   "execution_count": null,
   "id": "93bd302d-a1ec-4351-826a-312487fae474",
   "metadata": {},
   "outputs": [],
   "source": [
    "percorre_extrai_zip('../../dados/dados_siape_bruto', '../../dados/dados_siape_bruto/descompactado')"
   ]
  }
 ],
 "metadata": {
  "kernelspec": {
   "display_name": "Python 3 (ipykernel)",
   "language": "python",
   "name": "python3"
  },
  "language_info": {
   "codemirror_mode": {
    "name": "ipython",
    "version": 3
   },
   "file_extension": ".py",
   "mimetype": "text/x-python",
   "name": "python",
   "nbconvert_exporter": "python",
   "pygments_lexer": "ipython3",
   "version": "3.10.12"
  }
 },
 "nbformat": 4,
 "nbformat_minor": 5
}
