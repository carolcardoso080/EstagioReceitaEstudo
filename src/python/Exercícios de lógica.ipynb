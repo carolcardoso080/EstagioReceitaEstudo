{
 "cells": [
  {
   "cell_type": "code",
   "execution_count": null,
   "id": "83349374-1da6-45de-b17e-90ed822fa0dc",
   "metadata": {},
   "outputs": [],
   "source": [
    "# Faça um Programa que peça dois números e imprima a soma.\n",
    "\n",
    "num1 = int(input(\"Digite um número\"))\n",
    "num2 = int(input(\"Digite o segundo número\"))\n",
    "soma = num1 + num2\n",
    "\n",
    "display(f\"A soma de {num1} e {num2} é: {soma}\")"
   ]
  },
  {
   "cell_type": "code",
   "execution_count": null,
   "id": "6b619171-6180-42d0-93d2-e0cd985cc7ca",
   "metadata": {},
   "outputs": [],
   "source": [
    "# Faça um Programa que peça as 4 notas bimestrais e mostre a média.\n",
    "\n",
    "nota_1b = float(input(\"Digite a nota do 1º bimestre\"))\n",
    "\n",
    "nota_2b = float(input(\"Digite a nota do 2º bimestre\"))\n",
    "\n",
    "nota_3b = float(input(\"Digite a nota do 3º bimestre\"))\n",
    "\n",
    "nota_4b = float(input(\"Digite a nota do 4º bimestre\"))\n",
    "\n",
    "media_notas = (nota_1b + nota_2b + nota_3b + nota_4b) / 4\n",
    "\n",
    "display(f\"A média das notas {nota_1b}, {nota_2b}, {nota_3b} e {nota_4b} é: {media_notas: .1f}\")"
   ]
  },
  {
   "cell_type": "code",
   "execution_count": null,
   "id": "af0ee0c7-71a3-4c8c-9d03-dd10ee8547bd",
   "metadata": {},
   "outputs": [],
   "source": [
    "# Faça um Programa que converta metros para centímetros.\n",
    "\n",
    "medida = float(input(\"Digite a medida em metros\"))\n",
    "\n",
    "m_para_cm = medida * 100\n",
    "\n",
    "display(f\"A conversão de {medida} para centímetros é: {m_para_cm}\")\n",
    "\n",
    "display(f\"{medida:.2f} metros equivalem a {m_para_cm} centímetros\")"
   ]
  },
  {
   "cell_type": "code",
   "execution_count": null,
   "id": "03be66d6-30e4-44a5-9ca8-d33a098a2f6c",
   "metadata": {},
   "outputs": [],
   "source": [
    "# Faça um Programa que peça o raio de um círculo, calcule e mostre sua área.\n",
    "\n",
    "raio = float(input(\"Digite o tamanho do raio\"))\n",
    "\n",
    "pi = 3.14159265359\n",
    "\n",
    "calcula_area = pi * (raio ** 2) # Ou (raio * raio), dá na mesma. \"**\" é a mesma coisa que \"elevado a\"\n",
    "\n",
    "display(f\"A área do círculo com o valor do raio {raio} é: {calcula_area: .2f} \")\n"
   ]
  },
  {
   "cell_type": "code",
   "execution_count": null,
   "id": "f4893ea9-eb23-432c-a9e9-c4727a306854",
   "metadata": {},
   "outputs": [],
   "source": [
    "# Faça um Programa que calcule a área de um quadrado, em seguida mostre o dobro desta área para o usuário.\n",
    "\n",
    "lado = float(input(\"Qual o valor de qualquer lado do quadrado em centímetros?\"))\n",
    "\n",
    "area = lado ** 2\n",
    "\n",
    "dobro_area = area * 2\n",
    "\n",
    "display(f\"Considerando que os lados do seu quadrado tenham {lado}cm, a sua área será {area:.2f}m\")\n",
    "\n",
    "display(f\"Quer saber quanto seria o dobro dessa área? A resposta é {dobro_area:.2f}m²\")"
   ]
  },
  {
   "cell_type": "code",
   "execution_count": null,
   "id": "35edea7a-3af5-47aa-882b-49a05226688a",
   "metadata": {},
   "outputs": [],
   "source": [
    "# Faça um Programa que pergunte quanto você ganha por hora e o número de horas trabalhadas no mês. \n",
    "# Calcule e mostre o total do seu salário no referido mês.\n",
    "\n",
    "ganho_hora = float(input(\"Digite quanto você ganha por hora:\"))\n",
    "\n",
    "horas_trabalhadas_dia = float(input(\"Quantas horas você trabalha por dia:\"))\n",
    "\n",
    "horas_mes = 22 * horas_trabalhadas_dia\n",
    "\n",
    "salario = ganho_hora * horas_mes\n",
    "\n",
    "display(f\"O seu salário mensal, com base no valor e quantidade de horas trabalhadas, é: R${salario:.2f}\")"
   ]
  },
  {
   "cell_type": "code",
   "execution_count": null,
   "id": "3263626c-825d-4cc3-a562-fe8423da08bf",
   "metadata": {},
   "outputs": [],
   "source": [
    "# Faça um Programa que peça a temperatura em graus Fahrenheit, transforme e mostre a temperatura em graus Celsius.\n",
    "# C = 5 * ((F-32) / 9).\n",
    "\n",
    "fahrenheit = float(input(\"Digite o grau em fahrenheit:\"))\n",
    "\n",
    "converter_celsius = 5 * ((fahrenheit - 32) / 9)\n",
    "\n",
    "display(f\"A conversão de {fahrenheit}° fahrenheit para celsius é: {converter_celsius:.2f}°\")"
   ]
  },
  {
   "cell_type": "code",
   "execution_count": null,
   "id": "820816e7-26b7-4372-8628-f3902c7b4fe6",
   "metadata": {},
   "outputs": [],
   "source": [
    "# Faça um Programa que peça a temperatura em graus Celsius, transforme e mostre em graus Fahrenheit.\n",
    "\n",
    "celsius = float(input(\"Digite o grau em celsius:\"))\n",
    "\n",
    "converter_fahrenheit = (celsius * 1.8) + 32 # Ou ((celsius * 9) / 5) + 32\n",
    "\n",
    "display(f\"A conversão de {celsius}° celsius para fahrenheit é: {converter_fahrenheit:.2f}\")"
   ]
  },
  {
   "cell_type": "code",
   "execution_count": null,
   "id": "b7764c35-5547-454b-bfb1-c9b914e54567",
   "metadata": {},
   "outputs": [],
   "source": [
    "# Faça um Programa que peça 2 números inteiros e um número real.\n",
    "# Calcule e mostre:\n",
    "#    o produto do dobro do primeiro com metade do segundo.\n",
    "#    a soma do triplo do primeiro com o terceiro.\n",
    "#    o terceiro elevado ao cubo.\n",
    "\n",
    "num1_int = int(input(\"Digite um número inteiro\"))\n",
    "\n",
    "num2_int = int(input(\"Digite mais um número inteiro\"))\n",
    "\n",
    "num3_real = float(input(\"Digite um número em decimal ou inteiro (número real)\"))\n",
    "\n",
    "produto = (num1_int * 2) * (num2_int / 2)\n",
    "\n",
    "soma = (num1_int * 3) + num3_real\n",
    "\n",
    "cubo = num3_real ** 3\n",
    "\n",
    "display(f\"O produto do dobro do primeiro {num1_int} com metade do segundo {num2_int} é: {produto:.2f} .\")\n",
    "\n",
    "display(f\"A soma do triplo do primeiro {num1_int} com o terceiro {num3_real} é: {soma:.2f}.\")\n",
    "\n",
    "display(f\"E o terceiro {num3_real} elevado ao cubo fica: {cubo:.2f}.\")"
   ]
  },
  {
   "cell_type": "code",
   "execution_count": null,
   "id": "09ccc99e-a2d6-4f6c-923b-9e74453f87fb",
   "metadata": {},
   "outputs": [],
   "source": [
    "# Tendo como dados de entrada a altura de uma pessoa:\n",
    "# Construa um algoritmo que calcule seu peso ideal, usando a seguinte fórmula: (72.7*altura) - 58\n",
    "\n",
    "altura = float(input(\"Qual a sua altura em metros?\"))\n",
    "\n",
    "peso_ideal = (72.7 * altura) - 58\n",
    "\n",
    "display(f\"Com essa altura {altura}, o seu peso ideal seria {peso_ideal:.2f}kg\")"
   ]
  },
  {
   "cell_type": "markdown",
   "id": "c1aa84bd-0747-4abd-a5b3-1c3fa3829f1b",
   "metadata": {},
   "source": [
    "# Conquista!!!"
   ]
  },
  {
   "cell_type": "code",
   "execution_count": null,
   "id": "6e3dc072-5396-4406-a705-727d23f45f30",
   "metadata": {},
   "outputs": [],
   "source": [
    "# Tendo como dado de entrada a altura (h) de uma pessoa:\n",
    "# Construa um algoritmo que calcule seu peso ideal utilizando as seguintes fórmulas:\n",
    "#    Para homens: (72.7*h) - 58\n",
    "#    Para mulheres: (62.1*h) - 44.7\n",
    "\n",
    "altura = float(input(\"Digite a sua altura em metros:\"))\n",
    "\n",
    "genero = input(\"O seu gênero é feminino ou masculino:\").lower()\n",
    "\n",
    "peso_ideal_mulher = (62.1 * altura) - 44.7\n",
    "\n",
    "peso_ideal_homem = (72.7 * altura) - 58\n",
    "\n",
    "if genero in genero == \"feminino\":\n",
    "\n",
    "    display(f\"Com a sua altura {altura} e gênero, o seu peso ideal seria {peso_ideal_mulher:.2f}kg\")\n",
    "\n",
    "elif genero == \"masculino\":\n",
    "\n",
    "    display(f\"Com a sua altura {altura} e gênero, o seu peso ideal seria {peso_ideal_homem:.2f}kg\")\n",
    "    \n",
    "else:\n",
    "    \n",
    "    display(f\"Resposta inválida. Tente novamente\")\n",
    "\n"
   ]
  },
  {
   "cell_type": "code",
   "execution_count": null,
   "id": "49c4eb88-d6a3-4995-a1b4-53d973ffa2df",
   "metadata": {},
   "outputs": [],
   "source": [
    "# João Papo-de-Pescador, homem de bem, comprou um microcomputador para controlar o rendimento diário de seu trabalho.\n",
    "# Toda vez que ele traz um peso de peixes maior que o estabelecido pelo regulamento de pesca do estado de São Paulo (50 quilos) \n",
    "# deve pagar uma multa de R$ 4,00 por quilo excedente.\n",
    "# João precisa que você faça um programa que leia a variável peso (peso de peixes) e calcule o excesso.\n",
    "\n",
    "# Gravar na variável excesso a quantidade de quilos além do limite e na variável multa o valor da multa que João deverá pagar.\n",
    "# Imprima os dados do programa com as mensagens adequadas.\n",
    "\n"
   ]
  }
 ],
 "metadata": {
  "kernelspec": {
   "display_name": "Python 3 (ipykernel)",
   "language": "python",
   "name": "python3"
  },
  "language_info": {
   "codemirror_mode": {
    "name": "ipython",
    "version": 3
   },
   "file_extension": ".py",
   "mimetype": "text/x-python",
   "name": "python",
   "nbconvert_exporter": "python",
   "pygments_lexer": "ipython3",
   "version": "3.10.12"
  }
 },
 "nbformat": 4,
 "nbformat_minor": 5
}
