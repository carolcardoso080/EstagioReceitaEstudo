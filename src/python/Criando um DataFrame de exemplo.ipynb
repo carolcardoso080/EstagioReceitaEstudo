{
 "cells": [
  {
   "cell_type": "code",
   "execution_count": null,
   "id": "c7f874ed-fa1d-4ad2-8259-10d8beb7fae1",
   "metadata": {},
   "outputs": [],
   "source": [
    " import pandas as pd\n",
    "\n",
    "# Criando um DataFrame de exemplo\n",
    "dados = {\n",
    "    'Nome': ['Alice', 'Bob', 'Charlie'],\n",
    "    'Idade': [25, 30, 35],\n",
    "    'Salário': [50000, 60000, 75000]\n",
    "}\n",
    "\n",
    "df = pd.DataFrame(dados)\n",
    "\n",
    "# Obtendo informações sobre o DataFrame\n",
    "df.info()"
   ]
  }
 ],
 "metadata": {
  "kernelspec": {
   "display_name": "Python 3 (ipykernel)",
   "language": "python",
   "name": "python3"
  },
  "language_info": {
   "codemirror_mode": {
    "name": "ipython",
    "version": 3
   },
   "file_extension": ".py",
   "mimetype": "text/x-python",
   "name": "python",
   "nbconvert_exporter": "python",
   "pygments_lexer": "ipython3",
   "version": "3.10.12"
  }
 },
 "nbformat": 4,
 "nbformat_minor": 5
}
