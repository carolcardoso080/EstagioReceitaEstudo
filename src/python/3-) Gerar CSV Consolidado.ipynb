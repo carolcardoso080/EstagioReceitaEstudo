{
 "cells": [
  {
   "cell_type": "code",
   "execution_count": null,
   "id": "4fcf5d5b-0297-4b0c-b9f6-74df8fec13fe",
   "metadata": {},
   "outputs": [],
   "source": [
    "import pandas as pd\n",
    "import os"
   ]
  },
  {
   "cell_type": "code",
   "execution_count": null,
   "id": "b6b3d1fc-c859-4476-86cb-d924ead099af",
   "metadata": {},
   "outputs": [],
   "source": [
    "\n",
    "def gerar_totais (arquivo_csv_cadastro):\n",
    "\n",
    "    display (f'Processando arquivo: {arquivo_csv_cadastro}')\n",
    "    \n",
    "    indice_ultimo_separador = arquivo_csv_cadastro.rfind(\"/\")\n",
    "    nome_arquivo = arquivo_csv_cadastro [indice_ultimo_separador+1:-4] \n",
    "\n",
    "    ano = int(nome_arquivo[:4])\n",
    "    mes = int(nome_arquivo[4:6])        \n",
    "    \n",
    "    df_cadastro = pd.read_csv(arquivo_csv_cadastro, encoding='iso-8859-1', sep=';')\n",
    "\n",
    "    df_contagem_combinacoes = df_cadastro.groupby(['ORGSUP_EXERCICIO', 'ORG_EXERCICIO', 'UORG_EXERCICIO', 'ORGSUP_LOTACAO', 'ORG_LOTACAO', 'UORG_LOTACAO', 'REGIME_JURIDICO', 'DESCRICAO_CARGO']).size().reset_index(name='Contagem')    \n",
    "\n",
    "    df_contagem_combinacoes['ano'] = ano\n",
    "    df_contagem_combinacoes['mes'] = mes\n",
    "    \n",
    "    return df_contagem_combinacoes\n",
    "    \n",
    "    "
   ]
  },
  {
   "cell_type": "code",
   "execution_count": null,
   "id": "342e4cfa-1c05-46d5-8be2-f23dc051f70c",
   "metadata": {},
   "outputs": [],
   "source": [
    "df = gerar_totais('../../dados/dados_siape_bruto/descompactado/201301_Servidores_SIAPE/201301_Cadastro.csv')"
   ]
  },
  {
   "cell_type": "code",
   "execution_count": null,
   "id": "8efac2c1-bd29-4fb4-a52e-17b9c307677c",
   "metadata": {},
   "outputs": [],
   "source": [
    "def percorre_diretorio_CSV(diretorio, destino_csv):\n",
    "\n",
    "    #contador = 0\n",
    "    \n",
    "    # Lista todos os arquivos no diretório\n",
    "    arquivos = os.listdir(diretorio)    \n",
    "    \n",
    "    # Filtra apenas os subdiretorios, excluindo arquivos\n",
    "    subdiretorios = [arquivo for arquivo in arquivos if os.path.isdir(os.path.join(diretorio, arquivo))]\n",
    "    \n",
    "    # Ordena os subdiretórios alfabeticamente\n",
    "    subdiretorios_ordenados = sorted(subdiretorios)\n",
    "\n",
    "    # Inicializa um DataFrame vazio para consolidar os resultados\n",
    "    df_consolidado = pd.DataFrame()\n",
    "    \n",
    "    # Itera a lista de subdiretorios\n",
    "    for subdiretorio in subdiretorios_ordenados:\n",
    "\n",
    "        caminho_completo = os.path.join(diretorio, subdiretorio)\n",
    "        \n",
    "        arquivos_subdiretorio = os.listdir(caminho_completo) \n",
    "\n",
    "        lista_arquivo_cadastro = [arquivo for arquivo in arquivos_subdiretorio if arquivo.lower().find(\"cadastro\") != -1]\n",
    "\n",
    "        if len(lista_arquivo_cadastro) == 1:\n",
    "            \n",
    "            arquivo_cadastro = lista_arquivo_cadastro[0]\n",
    "\n",
    "            caminho_completo_arquivo_cadastro = os.path.join(caminho_completo, arquivo_cadastro)                        \n",
    "\n",
    "            df_total_mes = gerar_totais (caminho_completo_arquivo_cadastro)\n",
    "\n",
    "            # Concatena o DataFrame atual com o DataFrame consolidado\n",
    "            df_consolidado = pd.concat([df_consolidado, df_total_mes], ignore_index=True)\n",
    "        \n",
    "        else:\n",
    "\n",
    "            display (f'ATENÇÃO: Mais ou nenhum arquivo cadastro no subdiretório {caminho_completo}')\n",
    "\n",
    "        #contador += 1\n",
    "\n",
    "        #if contador > 4:\n",
    "            #break\n",
    "\n",
    "    df_consolidado.to_csv(destino_csv, index=False)\n",
    "        "
   ]
  },
  {
   "cell_type": "code",
   "execution_count": null,
   "id": "f6feb65d-454b-4e4c-8a27-1bcbdf440e3c",
   "metadata": {},
   "outputs": [],
   "source": [
    "percorre_diretorio_CSV(\"../../dados/dados_siape_bruto/descompactado\", \"../../dados/cadastro_siape_consolidado_orgao_mes_ano.csv\")"
   ]
  },
  {
   "cell_type": "code",
   "execution_count": null,
   "id": "2618caea-4865-4ec0-833c-7f45690004ca",
   "metadata": {},
   "outputs": [],
   "source": [
    "import pandas as pd\n",
    "\n",
    "# Criar um DataFrame de exemplo\n",
    "dados = {'Estado': ['SP', 'RJ', 'SP', 'RJ', 'MG', 'SP', 'MG', 'RJ', 'SP', 'MG'],\n",
    "         'Cidade': ['São Paulo', 'Rio de Janeiro', 'São Paulo', 'Rio de Janeiro', 'Belo Horizonte',\n",
    "                    'São Paulo', 'Belo Horizonte', 'Rio de Janeiro', 'São Paulo', 'Belo Horizonte'],\n",
    "         'Máquina': ['M1', 'M2', 'M1', 'M2', 'M1', 'M2', 'M1', 'M2', 'M1', 'M2'],\n",
    "         'Quantidade Produzida': [100, 150, 120, 200, 80, 110, 90, 180, 130, 70],\n",
    "         'Ano': [2022, 2022, 2022, 2022, 2022, 2023, 2023, 2023, 2023, 2023],\n",
    "         'Mês': [1, 1, 2, 2, 3, 1, 1, 2, 2, 3]}\n",
    "df = pd.DataFrame(dados)\n",
    "\n",
    "# Exibir o DataFrame original\n",
    "print(\"DataFrame original:\")\n",
    "print(df)\n",
    "\n",
    "# Calcular a quantidade total produzida por estado, cidade, ano e mês usando groupby\n",
    "producao_total = df.groupby(['Estado', 'Cidade'])['Quantidade Produzida'].sum().reset_index()\n",
    "\n",
    "# Exibir o resultado\n",
    "print(\"\\nProdução total por estado, cidade, ano e mês:\")\n",
    "print(producao_total)\n",
    "\n",
    "\n"
   ]
  }
 ],
 "metadata": {
  "kernelspec": {
   "display_name": "Python 3 (ipykernel)",
   "language": "python",
   "name": "python3"
  },
  "language_info": {
   "codemirror_mode": {
    "name": "ipython",
    "version": 3
   },
   "file_extension": ".py",
   "mimetype": "text/x-python",
   "name": "python",
   "nbconvert_exporter": "python",
   "pygments_lexer": "ipython3",
   "version": "3.10.12"
  }
 },
 "nbformat": 4,
 "nbformat_minor": 5
}
