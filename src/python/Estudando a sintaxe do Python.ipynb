{
 "cells": [
  {
   "cell_type": "code",
   "execution_count": 29,
   "id": "1fe4a1c8-f771-4dea-b627-7587f554871b",
   "metadata": {},
   "outputs": [
    {
     "name": "stdout",
     "output_type": "stream",
     "text": [
      "19\n"
     ]
    }
   ],
   "source": [
    "txt = \"O futuro é um mistério, o passado uma lição e o presente uma dádiva!\"\n",
    "\n",
    "resultado = txt.find(\"r\", 7, 25)\n",
    "\n",
    "print(resultado)"
   ]
  },
  {
   "cell_type": "code",
   "execution_count": 32,
   "id": "7c621e28-5fc7-4225-88a2-063958765a27",
   "metadata": {},
   "outputs": [
    {
     "name": "stdout",
     "output_type": "stream",
     "text": [
      "Por apenas  25.00\n"
     ]
    }
   ],
   "source": [
    "txt = \"Por apenas {preço: .2f}\"\n",
    "\n",
    "print(txt.format(preço = 25))"
   ]
  },
  {
   "cell_type": "code",
   "execution_count": 39,
   "id": "e72a077a-95eb-4047-9708-85f6634a9e1c",
   "metadata": {},
   "outputs": [
    {
     "name": "stdout",
     "output_type": "stream",
     "text": [
      "O binário de 13 é 1101\n"
     ]
    }
   ],
   "source": [
    "txt = \"O binário de {0} é {0:b}\"\n",
    "\n",
    "print(txt.format(13))"
   ]
  },
  {
   "cell_type": "code",
   "execution_count": 41,
   "id": "ecd03dd3-3be0-4f0a-b517-3174a12699d5",
   "metadata": {},
   "outputs": [
    {
     "name": "stdout",
     "output_type": "stream",
     "text": [
      "Filme:!Eu!Eu mesmo!e!Irene\n"
     ]
    }
   ],
   "source": [
    "tuple = (\"Filme:\",\"Eu\", \"Eu mesmo\", \"e\", \"Irene\")\n",
    "\n",
    "resultado = \"!\".join(tuple)\n",
    "\n",
    "print(resultado)"
   ]
  },
  {
   "cell_type": "code",
   "execution_count": 42,
   "id": "3572fba9-80c0-46be-8afb-f5b37c4da31c",
   "metadata": {},
   "outputs": [
    {
     "name": "stdout",
     "output_type": "stream",
     "text": [
      "NomeTESTEPaís\n"
     ]
    }
   ],
   "source": [
    "myDict = {\"Nome\": \"Carol\", \"País\": \"Brasil\"}\n",
    "separador = \"TESTE\"\n",
    "\n",
    "resultado = separador.join(myDict)\n",
    "\n",
    "print(resultado)"
   ]
  }
 ],
 "metadata": {
  "kernelspec": {
   "display_name": "Python 3 (ipykernel)",
   "language": "python",
   "name": "python3"
  },
  "language_info": {
   "codemirror_mode": {
    "name": "ipython",
    "version": 3
   },
   "file_extension": ".py",
   "mimetype": "text/x-python",
   "name": "python",
   "nbconvert_exporter": "python",
   "pygments_lexer": "ipython3",
   "version": "3.10.12"
  }
 },
 "nbformat": 4,
 "nbformat_minor": 5
}
