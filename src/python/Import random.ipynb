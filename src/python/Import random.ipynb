{
 "cells": [
  {
   "cell_type": "code",
   "execution_count": null,
   "id": "c8e5a3a1-edb8-4520-bc5a-886e24ada167",
   "metadata": {},
   "outputs": [],
   "source": [
    "\n",
    "\n",
    "caminho = \"202311_Cadastro.csv\"\n",
    "\n",
    "contador = 0\n",
    "\n",
    "with open (caminho, 'r', encoding='iso-8859-1') as arquivo:\n",
    "\n",
    "    display(type(arquivo))\n",
    "    \n",
    "    for linha in arquivo:\n",
    "        print (linha)\n",
    "        contador += 1\n",
    "\n",
    "        if contador >= 10:\n",
    "            break\n",
    "    \n",
    "    \n",
    "\n",
    "\n",
    "\n",
    "print (type(arquivo))\n",
    "\n",
    "\n",
    "\n",
    "\n",
    "\n",
    "\n",
    "\n",
    "variavel_texto = \"oi\"\n",
    "\n",
    "print (type(variavel_texto))\n",
    "\n",
    "\n",
    "\n",
    "\n",
    "\n",
    "\n",
    "variavel_numerica = 1\n",
    "\n",
    "print (type(variavel_numerica))\n",
    "\n",
    "\n",
    "variavel_numerica = \"abelha\"\n",
    "print (type(variavel_numerica))\n",
    "\n",
    "\n",
    "variavel_numerica_decimal = 1.23\n",
    "\n",
    "print (type(variavel_numerica_decimal))\n",
    "\n",
    "\n",
    "lista = [1, 2, 3]\n",
    "\n",
    "print (type(lista))\n"
   ]
  },
  {
   "cell_type": "code",
   "execution_count": null,
   "id": "c067a517-7e28-428a-aa6c-a7c346c4f4b1",
   "metadata": {},
   "outputs": [],
   "source": [
    "import random\n",
    "\n",
    "numero_aleatorio = random.random()\n",
    "print(numero_aleatorio)"
   ]
  },
  {
   "cell_type": "code",
   "execution_count": null,
   "id": "c3de6387-22e7-4f2a-b664-e35888b9a8f9",
   "metadata": {},
   "outputs": [],
   "source": [
    "import random\n",
    "\n",
    "numero_aleatorio = random.randint(1, 10)\n",
    "print(numero_aleatorio)"
   ]
  },
  {
   "cell_type": "code",
   "execution_count": null,
   "id": "d56f3b6c-adce-41de-8122-7b01e6c0df0c",
   "metadata": {},
   "outputs": [],
   "source": [
    "import random\n",
    "\n",
    "numero_aleatorio = random.uniform(1.0, 10.0)\n",
    "print(numero_aleatorio)"
   ]
  }
 ],
 "metadata": {
  "kernelspec": {
   "display_name": "Python 3 (ipykernel)",
   "language": "python",
   "name": "python3"
  },
  "language_info": {
   "codemirror_mode": {
    "name": "ipython",
    "version": 3
   },
   "file_extension": ".py",
   "mimetype": "text/x-python",
   "name": "python",
   "nbconvert_exporter": "python",
   "pygments_lexer": "ipython3",
   "version": "3.10.12"
  }
 },
 "nbformat": 4,
 "nbformat_minor": 5
}
